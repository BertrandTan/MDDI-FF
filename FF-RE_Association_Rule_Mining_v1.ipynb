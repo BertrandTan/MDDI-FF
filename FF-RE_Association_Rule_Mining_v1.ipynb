{
 "cells": [
  {
   "cell_type": "markdown",
   "id": "f9e25cd4-983b-46dd-9d0b-84ee483658b6",
   "metadata": {
    "id": "f9e25cd4-983b-46dd-9d0b-84ee483658b6"
   },
   "source": [
    "## Recommendation Engines\n",
    "A Focus Friday Feature on Data Science<br>\n",
    "Machine Learning - Association Rule Mining<br><br>\n",
    "<span style=\"color:blue\"> Created with: Gemini 2.5 Flash<br>\n",
    "Modified by: Bertrand Tan, MDDI<br>\n",
    "Date: 29 Jul 2025</span><hr>"
   ]
  },
  {
   "cell_type": "code",
   "execution_count": 25,
   "id": "90eab059-db07-4b28-808b-e2f3cbecd4a3",
   "metadata": {
    "colab": {
     "base_uri": "https://localhost:8080/"
    },
    "executionInfo": {
     "elapsed": 3598,
     "status": "ok",
     "timestamp": 1753444997283,
     "user": {
      "displayName": "Bertrand Tan",
      "userId": "13076261897196240400"
     },
     "user_tz": -480
    },
    "id": "90eab059-db07-4b28-808b-e2f3cbecd4a3",
    "outputId": "6d0e064b-1217-4c2f-b3f0-4c398a772bf0"
   },
   "outputs": [
    {
     "name": "stdout",
     "output_type": "stream",
     "text": [
      "Requirement already satisfied: mlxtend in /usr/local/lib/python3.11/dist-packages (0.23.4)\n",
      "Requirement already satisfied: plotly in /usr/local/lib/python3.11/dist-packages (5.24.1)\n",
      "Requirement already satisfied: scipy>=1.2.1 in /usr/local/lib/python3.11/dist-packages (from mlxtend) (1.16.0)\n",
      "Requirement already satisfied: numpy>=1.16.2 in /usr/local/lib/python3.11/dist-packages (from mlxtend) (2.0.2)\n",
      "Requirement already satisfied: pandas>=0.24.2 in /usr/local/lib/python3.11/dist-packages (from mlxtend) (2.2.2)\n",
      "Requirement already satisfied: scikit-learn>=1.3.1 in /usr/local/lib/python3.11/dist-packages (from mlxtend) (1.6.1)\n",
      "Requirement already satisfied: matplotlib>=3.0.0 in /usr/local/lib/python3.11/dist-packages (from mlxtend) (3.10.0)\n",
      "Requirement already satisfied: joblib>=0.13.2 in /usr/local/lib/python3.11/dist-packages (from mlxtend) (1.5.1)\n",
      "Requirement already satisfied: tenacity>=6.2.0 in /usr/local/lib/python3.11/dist-packages (from plotly) (8.5.0)\n",
      "Requirement already satisfied: packaging in /usr/local/lib/python3.11/dist-packages (from plotly) (25.0)\n",
      "Requirement already satisfied: contourpy>=1.0.1 in /usr/local/lib/python3.11/dist-packages (from matplotlib>=3.0.0->mlxtend) (1.3.2)\n",
      "Requirement already satisfied: cycler>=0.10 in /usr/local/lib/python3.11/dist-packages (from matplotlib>=3.0.0->mlxtend) (0.12.1)\n",
      "Requirement already satisfied: fonttools>=4.22.0 in /usr/local/lib/python3.11/dist-packages (from matplotlib>=3.0.0->mlxtend) (4.59.0)\n",
      "Requirement already satisfied: kiwisolver>=1.3.1 in /usr/local/lib/python3.11/dist-packages (from matplotlib>=3.0.0->mlxtend) (1.4.8)\n",
      "Requirement already satisfied: pillow>=8 in /usr/local/lib/python3.11/dist-packages (from matplotlib>=3.0.0->mlxtend) (11.3.0)\n",
      "Requirement already satisfied: pyparsing>=2.3.1 in /usr/local/lib/python3.11/dist-packages (from matplotlib>=3.0.0->mlxtend) (3.2.3)\n",
      "Requirement already satisfied: python-dateutil>=2.7 in /usr/local/lib/python3.11/dist-packages (from matplotlib>=3.0.0->mlxtend) (2.9.0.post0)\n",
      "Requirement already satisfied: pytz>=2020.1 in /usr/local/lib/python3.11/dist-packages (from pandas>=0.24.2->mlxtend) (2025.2)\n",
      "Requirement already satisfied: tzdata>=2022.7 in /usr/local/lib/python3.11/dist-packages (from pandas>=0.24.2->mlxtend) (2025.2)\n",
      "Requirement already satisfied: threadpoolctl>=3.1.0 in /usr/local/lib/python3.11/dist-packages (from scikit-learn>=1.3.1->mlxtend) (3.6.0)\n",
      "Requirement already satisfied: six>=1.5 in /usr/local/lib/python3.11/dist-packages (from python-dateutil>=2.7->matplotlib>=3.0.0->mlxtend) (1.17.0)\n"
     ]
    }
   ],
   "source": [
    "# --- Google Colab Setup ---\n",
    "# Install necessary libraries: mlxtend for association rules, plotly for interactive charts.\n",
    "!pip install mlxtend plotly"
   ]
  },
  {
   "cell_type": "code",
   "execution_count": 26,
   "id": "c62711fb-aa28-40ad-9afa-14a9c05a9a5a",
   "metadata": {
    "executionInfo": {
     "elapsed": 13,
     "status": "ok",
     "timestamp": 1753444997292,
     "user": {
      "displayName": "Bertrand Tan",
      "userId": "13076261897196240400"
     },
     "user_tz": -480
    },
    "id": "c62711fb-aa28-40ad-9afa-14a9c05a9a5a"
   },
   "outputs": [],
   "source": [
    "# --- Import Libraries ---\n",
    "import pandas as pd\n",
    "from mlxtend.frequent_patterns import apriori, association_rules\n",
    "from mlxtend.preprocessing import TransactionEncoder\n",
    "import plotly.express as px # Used for interactive visualizations"
   ]
  },
  {
   "cell_type": "code",
   "execution_count": 27,
   "id": "986702f1-0c3b-49d3-8016-b3fd28fbea28",
   "metadata": {
    "executionInfo": {
     "elapsed": 6,
     "status": "ok",
     "timestamp": 1753444997304,
     "user": {
      "displayName": "Bertrand Tan",
      "userId": "13076261897196240400"
     },
     "user_tz": -480
    },
    "id": "986702f1-0c3b-49d3-8016-b3fd28fbea28"
   },
   "outputs": [],
   "source": [
    "# Generate Synthetic Transactional Data (50 rows)\n",
    "# This dataset simulates customer transactions with demographic details and varying item counts.\n",
    "data = {\n",
    "    'TransactionID': list(range(1, 51)),\n",
    "    'Gender': ['Female', 'Male'] * 25, # Alternating Gender for 50 rows\n",
    "    'Occupation': ['Engineer', 'Student', 'Teacher', 'Engineer', 'Student'] * 10, # Cycle through occupations\n",
    "    'HomeOwnership': ['Own', 'Rent', 'Own', 'Own', 'Rent'] * 10, # Cycle through home ownership\n",
    "    'Items': [\n",
    "        'Milk,Bread,Eggs', 'Milk,Diapers,Beer,Chips', 'Bread,Butter,Jam', 'Milk,Cheese', 'Coffee,Sugar,Milk,Biscuits',\n",
    "        'Diapers,Beer', 'Bread,Eggs,Coffee,Juice', 'Milk,Jam', 'Coffee,Sugar,Bread,Butter', 'Milk,Cheese,Jam',\n",
    "        'Milk,Bread,Eggs', 'Diapers,Beer,Milk,Soda', 'Bread,Butter,Coffee', 'Milk,Eggs, Diapers, Beet', 'Coffee,Sugar,Jam,Cereal',\n",
    "        'Diapers,Chips', 'Bread,Eggs,Milk', 'Milk,Coffee', 'Coffee,Sugar,Bread,Jam', 'Milk,Cheese,Biscuits',\n",
    "        'Bread,Juice,Cereal', 'Milk,Diapers,Beer', 'Coffee,Biscuits', 'Bread,Jam,Butter', 'Milk,Eggs,Cheese,Coffee',\n",
    "        'Diapers,Beer,Chips,Soda', 'Coffee,Sugar,Milk', 'Bread,Eggs,Juice', 'Milk,Butter,Jam,Cereal', 'Coffee,Biscuits,Jam',\n",
    "        'Milk,Bread,Coffee', 'Diapers,Beer,Chips', 'Jam,Butter,Cereal', 'Cheese,Milk', 'Sugar,Biscuits,Coffee',\n",
    "        'Beer,Diapers,Soda', 'Eggs,Juice,Bread', 'Jam,Milk', 'Butter,Coffee,Bread', 'Cheese,Jam,Milk',\n",
    "        'Eggs,Milk,Bread', 'Soda,Diapers,Beer', 'Coffee,Butter,Bread', 'Eggs,Milk', 'Cereal,Jam,Coffee',\n",
    "        'Chips,Diapers', 'Milk,Eggs,Bread', 'Coffee,Milk', 'Jam,Coffee,Sugar', 'Biscuits,Cheese,Milk'\n",
    "    ]\n",
    "}"
   ]
  },
  {
   "cell_type": "markdown",
   "id": "7c694e2f-0f1a-4774-824a-dafaeaddea8e",
   "metadata": {
    "id": "7c694e2f-0f1a-4774-824a-dafaeaddea8e"
   },
   "source": [
    "#### --- Part 1: Market Basket Analysis of All Items ---"
   ]
  },
  {
   "cell_type": "code",
   "execution_count": 28,
   "id": "ea3e50e5-7c23-4e03-905b-39dfa11d28d3",
   "metadata": {
    "colab": {
     "base_uri": "https://localhost:8080/"
    },
    "executionInfo": {
     "elapsed": 17,
     "status": "ok",
     "timestamp": 1753444997326,
     "user": {
      "displayName": "Bertrand Tan",
      "userId": "13076261897196240400"
     },
     "user_tz": -480
    },
    "id": "ea3e50e5-7c23-4e03-905b-39dfa11d28d3",
    "outputId": "930881db-6357-41f1-cf60-88f74debc660"
   },
   "outputs": [
    {
     "name": "stdout",
     "output_type": "stream",
     "text": [
      "--- Part 1: Market Basket Analysis of All Items ---\n",
      "\n",
      "Sample of the DataFrame (first 5 rows):\n",
      "   TransactionID  Gender Occupation HomeOwnership                       Items\n",
      "0              1  Female   Engineer           Own             Milk,Bread,Eggs\n",
      "1              2    Male    Student          Rent     Milk,Diapers,Beer,Chips\n",
      "2              3  Female    Teacher           Own            Bread,Butter,Jam\n",
      "3              4    Male   Engineer           Own                 Milk,Cheese\n",
      "4              5  Female    Student          Rent  Coffee,Sugar,Milk,Biscuits\n",
      "\n",
      "Unique occupations: ['Engineer' 'Student' 'Teacher']\n"
     ]
    }
   ],
   "source": [
    "print(\"--- Part 1: Market Basket Analysis of All Items ---\")\n",
    "\n",
    "df = pd.DataFrame(data)\n",
    "\n",
    "print(\"\\nSample of the DataFrame (first 5 rows):\")\n",
    "print(df.head())\n",
    "print(f\"\\nUnique occupations: {df['Occupation'].unique()}\")"
   ]
  },
  {
   "cell_type": "code",
   "execution_count": 29,
   "id": "0aaddc45-c6c2-4aec-910c-fdbc2a827b70",
   "metadata": {
    "colab": {
     "base_uri": "https://localhost:8080/"
    },
    "executionInfo": {
     "elapsed": 15,
     "status": "ok",
     "timestamp": 1753444997345,
     "user": {
      "displayName": "Bertrand Tan",
      "userId": "13076261897196240400"
     },
     "user_tz": -480
    },
    "id": "0aaddc45-c6c2-4aec-910c-fdbc2a827b70",
    "outputId": "253e4fb7-704c-453e-cbb5-14964064fe02"
   },
   "outputs": [
    {
     "name": "stdout",
     "output_type": "stream",
     "text": [
      "\n",
      "Sample of One-Hot Encoded Transaction Data (first 5 rows):\n",
      "    Beet   Diapers   Beer  Biscuits  Bread  Butter  Cereal  Cheese  Chips  \\\n",
      "0  False     False  False     False   True   False   False   False  False   \n",
      "1  False     False   True     False  False   False   False   False   True   \n",
      "2  False     False  False     False   True    True   False   False  False   \n",
      "3  False     False  False     False  False   False   False    True  False   \n",
      "4  False     False  False      True  False   False   False   False  False   \n",
      "\n",
      "   Coffee  Diapers   Eggs    Jam  Juice   Milk   Soda  Sugar  \n",
      "0   False    False   True  False  False   True  False  False  \n",
      "1   False     True  False  False  False   True  False  False  \n",
      "2   False    False  False   True  False  False  False  False  \n",
      "3   False    False  False  False  False   True  False  False  \n",
      "4    True    False  False  False  False   True  False   True  \n"
     ]
    }
   ],
   "source": [
    "# Preprocessing: One-hot encode the 'Items' column for Apriori.\n",
    "item_list = df['Items'].apply(lambda x: x.split(','))\n",
    "te = TransactionEncoder()\n",
    "df_items = pd.DataFrame(te.fit(item_list).transform(item_list), columns=te.columns_)\n",
    "\n",
    "print(\"\\nSample of One-Hot Encoded Transaction Data (first 5 rows):\")\n",
    "print(df_items.head())"
   ]
  },
  {
   "cell_type": "code",
   "execution_count": 30,
   "id": "b2226424-8c55-4c9a-9eaf-77e94cc843c3",
   "metadata": {
    "colab": {
     "base_uri": "https://localhost:8080/"
    },
    "executionInfo": {
     "elapsed": 80,
     "status": "ok",
     "timestamp": 1753444997429,
     "user": {
      "displayName": "Bertrand Tan",
      "userId": "13076261897196240400"
     },
     "user_tz": -480
    },
    "id": "b2226424-8c55-4c9a-9eaf-77e94cc843c3",
    "outputId": "7abbb5f0-8766-4995-f221-9f4852ac0a9e"
   },
   "outputs": [
    {
     "name": "stdout",
     "output_type": "stream",
     "text": [
      "\n",
      "Frequent Itemsets (min_support=0.1):\n",
      "    support             itemsets\n",
      "0      0.16               (Beer)\n",
      "1      0.12           (Biscuits)\n",
      "2      0.34              (Bread)\n",
      "3      0.16             (Butter)\n",
      "4      0.10             (Cereal)\n",
      "5      0.14             (Cheese)\n",
      "6      0.10              (Chips)\n",
      "7      0.36             (Coffee)\n",
      "8      0.20            (Diapers)\n",
      "9      0.22               (Eggs)\n",
      "10     0.26                (Jam)\n",
      "11     0.50               (Milk)\n",
      "12     0.14              (Sugar)\n",
      "13     0.16      (Diapers, Beer)\n",
      "14     0.12      (Butter, Bread)\n",
      "15     0.14      (Bread, Coffee)\n",
      "16     0.16        (Eggs, Bread)\n",
      "17     0.12        (Milk, Bread)\n",
      "18     0.14       (Cheese, Milk)\n",
      "19     0.10     (Diapers, Chips)\n",
      "20     0.10        (Jam, Coffee)\n",
      "21     0.12       (Milk, Coffee)\n",
      "22     0.14      (Sugar, Coffee)\n",
      "23     0.16         (Milk, Eggs)\n",
      "24     0.10          (Milk, Jam)\n",
      "25     0.10  (Milk, Eggs, Bread)\n"
     ]
    }
   ],
   "source": [
    "# 2. Apply Apriori Algorithm to find Frequent Itemsets.\n",
    "# min_support is set to 0.1 for general analysis with 50 rows to ensure enough rules are found.\n",
    "frequent_itemsets = apriori(df_items, min_support=0.1, use_colnames=True)\n",
    "print(\"\\nFrequent Itemsets (min_support=0.1):\")\n",
    "print(frequent_itemsets)"
   ]
  },
  {
   "cell_type": "code",
   "execution_count": 31,
   "id": "574a56bb-69d9-4ed1-ad98-771a2b48ecf6",
   "metadata": {
    "colab": {
     "base_uri": "https://localhost:8080/"
    },
    "executionInfo": {
     "elapsed": 22,
     "status": "ok",
     "timestamp": 1753444997459,
     "user": {
      "displayName": "Bertrand Tan",
      "userId": "13076261897196240400"
     },
     "user_tz": -480
    },
    "id": "574a56bb-69d9-4ed1-ad98-771a2b48ecf6",
    "outputId": "4fa24057-b48a-473b-9b12-c23eca4f1920"
   },
   "outputs": [
    {
     "name": "stdout",
     "output_type": "stream",
     "text": [
      "\n",
      "Generated Association Rules (min_lift=1.0, sorted by Lift):\n",
      "      antecedents    consequents  support  confidence      lift\n",
      "1          (Beer)      (Diapers)     0.16    1.000000  5.000000\n",
      "11        (Chips)      (Diapers)     0.10    1.000000  5.000000\n",
      "10      (Diapers)        (Chips)     0.10    0.500000  5.000000\n",
      "0       (Diapers)         (Beer)     0.16    0.800000  5.000000\n",
      "22         (Eggs)  (Milk, Bread)     0.10    0.454545  3.787879\n",
      "19  (Milk, Bread)         (Eggs)     0.10    0.833333  3.787879\n",
      "15       (Coffee)        (Sugar)     0.14    0.388889  2.777778\n",
      "14        (Sugar)       (Coffee)     0.14    1.000000  2.777778\n",
      "2        (Butter)        (Bread)     0.12    0.750000  2.205882\n",
      "3         (Bread)       (Butter)     0.12    0.352941  2.205882\n",
      "6          (Eggs)        (Bread)     0.16    0.727273  2.139037\n",
      "7         (Bread)         (Eggs)     0.16    0.470588  2.139037\n",
      "8        (Cheese)         (Milk)     0.14    1.000000  2.000000\n",
      "9          (Milk)       (Cheese)     0.14    0.280000  2.000000\n",
      "23        (Bread)   (Milk, Eggs)     0.10    0.294118  1.838235\n",
      "18   (Milk, Eggs)        (Bread)     0.10    0.625000  1.838235\n",
      "17         (Eggs)         (Milk)     0.16    0.727273  1.454545\n",
      "16         (Milk)         (Eggs)     0.16    0.320000  1.454545\n",
      "20  (Eggs, Bread)         (Milk)     0.10    0.625000  1.250000\n",
      "21         (Milk)  (Eggs, Bread)     0.10    0.200000  1.250000\n",
      "4         (Bread)       (Coffee)     0.14    0.411765  1.143791\n",
      "5        (Coffee)        (Bread)     0.14    0.388889  1.143791\n",
      "12          (Jam)       (Coffee)     0.10    0.384615  1.068376\n",
      "13       (Coffee)          (Jam)     0.10    0.277778  1.068376\n"
     ]
    }
   ],
   "source": [
    "# 3. Generate Association Rules from frequent itemsets.\n",
    "rules = association_rules(frequent_itemsets, metric=\"lift\", min_threshold=1.0)\n",
    "rules = rules.sort_values(by=['lift', 'confidence'], ascending=[False, False])\n",
    "\n",
    "# Convert frozensets to strings for Plotly hover_data compatibility.\n",
    "# Plotly's hover_data expects JSON-serializable types, and frozensets are not.\n",
    "rules['antecedents_str'] = rules['antecedents'].apply(lambda x: ', '.join(list(x)))\n",
    "rules['consequents_str'] = rules['consequents'].apply(lambda x: ', '.join(list(x)))\n",
    "\n",
    "\n",
    "print(\"\\nGenerated Association Rules (min_lift=1.0, sorted by Lift):\")\n",
    "print(rules[['antecedents', 'consequents', 'support', 'confidence', 'lift']])"
   ]
  },
  {
   "cell_type": "code",
   "execution_count": 32,
   "id": "353b2434-3c03-47f1-abf4-53e54313859e",
   "metadata": {
    "colab": {
     "base_uri": "https://localhost:8080/",
     "height": 517
    },
    "executionInfo": {
     "elapsed": 21,
     "status": "ok",
     "timestamp": 1753444997474,
     "user": {
      "displayName": "Bertrand Tan",
      "userId": "13076261897196240400"
     },
     "user_tz": -480
    },
    "id": "353b2434-3c03-47f1-abf4-53e54313859e",
    "outputId": "e2e05176-83ae-4e21-e350-27a281c293e3"
   },
   "outputs": [
    {
     "data": {
      "text/html": [
       "<html>\n",
       "<head><meta charset=\"utf-8\" /></head>\n",
       "<body>\n",
       "    <div>            <script src=\"https://cdnjs.cloudflare.com/ajax/libs/mathjax/2.7.5/MathJax.js?config=TeX-AMS-MML_SVG\"></script><script type=\"text/javascript\">if (window.MathJax && window.MathJax.Hub && window.MathJax.Hub.Config) {window.MathJax.Hub.Config({SVG: {font: \"STIX-Web\"}});}</script>                <script type=\"text/javascript\">window.PlotlyConfig = {MathJaxConfig: 'local'};</script>\n",
       "        <script charset=\"utf-8\" src=\"https://cdn.plot.ly/plotly-2.35.2.min.js\"></script>                <div id=\"ab604091-6043-4d0a-86df-2878c9eed809\" class=\"plotly-graph-div\" style=\"height:500px; width:800px;\"></div>            <script type=\"text/javascript\">                                    window.PLOTLYENV=window.PLOTLYENV || {};                                    if (document.getElementById(\"ab604091-6043-4d0a-86df-2878c9eed809\")) {                    Plotly.newPlot(                        \"ab604091-6043-4d0a-86df-2878c9eed809\",                        [{\"customdata\":[[\"Beer\",\"Diapers\",5.0],[\"Chips\",\"Diapers\",5.0],[\"Diapers\",\"Chips\",5.0],[\"Diapers\",\"Beer\",4.999999999999999],[\"Eggs\",\"Milk, Bread\",3.7878787878787885],[\"Milk, Bread\",\"Eggs\",3.787878787878788],[\"Coffee\",\"Sugar\",2.777777777777778],[\"Sugar\",\"Coffee\",2.7777777777777777],[\"Butter\",\"Bread\",2.205882352941176],[\"Bread\",\"Butter\",2.205882352941176],[\"Eggs\",\"Bread\",2.1390374331550803],[\"Bread\",\"Eggs\",2.1390374331550803],[\"Cheese\",\"Milk\",2.0],[\"Milk\",\"Cheese\",2.0],[\"Bread\",\"Milk, Eggs\",1.8382352941176472],[\"Milk, Eggs\",\"Bread\",1.838235294117647],[\"Eggs\",\"Milk\",1.4545454545454546],[\"Milk\",\"Eggs\",1.4545454545454546],[\"Eggs, Bread\",\"Milk\",1.25],[\"Milk\",\"Eggs, Bread\",1.25],[\"Bread\",\"Coffee\",1.1437908496732028],[\"Coffee\",\"Bread\",1.1437908496732028],[\"Jam\",\"Coffee\",1.0683760683760686],[\"Coffee\",\"Jam\",1.0683760683760684]],\"hovertemplate\":\"Support (Proportion of Transactions)=%{x}\\u003cbr\\u003eConfidence (P(Consequent | Antecedent))=%{y}\\u003cbr\\u003eLift (Measure of Significance)=%{marker.color}\\u003cbr\\u003eAntecedents=%{customdata[0]}\\u003cbr\\u003eConsequents=%{customdata[1]}\\u003cextra\\u003e\\u003c\\u002fextra\\u003e\",\"legendgroup\":\"\",\"marker\":{\"color\":[5.0,5.0,5.0,4.999999999999999,3.7878787878787885,3.787878787878788,2.777777777777778,2.7777777777777777,2.205882352941176,2.205882352941176,2.1390374331550803,2.1390374331550803,2.0,2.0,1.8382352941176472,1.838235294117647,1.4545454545454546,1.4545454545454546,1.25,1.25,1.1437908496732028,1.1437908496732028,1.0683760683760686,1.0683760683760684],\"coloraxis\":\"coloraxis\",\"size\":[5.0,5.0,5.0,4.999999999999999,3.7878787878787885,3.787878787878788,2.777777777777778,2.7777777777777777,2.205882352941176,2.205882352941176,2.1390374331550803,2.1390374331550803,2.0,2.0,1.8382352941176472,1.838235294117647,1.4545454545454546,1.4545454545454546,1.25,1.25,1.1437908496732028,1.1437908496732028,1.0683760683760686,1.0683760683760684],\"sizemode\":\"area\",\"sizeref\":0.0125,\"symbol\":\"circle\"},\"mode\":\"markers\",\"name\":\"\",\"orientation\":\"v\",\"showlegend\":false,\"x\":[0.16,0.1,0.1,0.16,0.1,0.1,0.14,0.14,0.12,0.12,0.16,0.16,0.14,0.14,0.1,0.1,0.16,0.16,0.1,0.1,0.14,0.14,0.1,0.1],\"xaxis\":\"x\",\"y\":[1.0,1.0,0.5,0.7999999999999999,0.4545454545454546,0.8333333333333334,0.38888888888888895,1.0,0.75,0.3529411764705882,0.7272727272727273,0.47058823529411764,1.0,0.28,0.29411764705882354,0.625,0.7272727272727273,0.32,0.625,0.2,0.411764705882353,0.38888888888888895,0.38461538461538464,0.2777777777777778],\"yaxis\":\"y\",\"type\":\"scatter\"}],                        {\"template\":{\"data\":{\"histogram2dcontour\":[{\"type\":\"histogram2dcontour\",\"colorbar\":{\"outlinewidth\":0,\"ticks\":\"\"},\"colorscale\":[[0.0,\"#0d0887\"],[0.1111111111111111,\"#46039f\"],[0.2222222222222222,\"#7201a8\"],[0.3333333333333333,\"#9c179e\"],[0.4444444444444444,\"#bd3786\"],[0.5555555555555556,\"#d8576b\"],[0.6666666666666666,\"#ed7953\"],[0.7777777777777778,\"#fb9f3a\"],[0.8888888888888888,\"#fdca26\"],[1.0,\"#f0f921\"]]}],\"choropleth\":[{\"type\":\"choropleth\",\"colorbar\":{\"outlinewidth\":0,\"ticks\":\"\"}}],\"histogram2d\":[{\"type\":\"histogram2d\",\"colorbar\":{\"outlinewidth\":0,\"ticks\":\"\"},\"colorscale\":[[0.0,\"#0d0887\"],[0.1111111111111111,\"#46039f\"],[0.2222222222222222,\"#7201a8\"],[0.3333333333333333,\"#9c179e\"],[0.4444444444444444,\"#bd3786\"],[0.5555555555555556,\"#d8576b\"],[0.6666666666666666,\"#ed7953\"],[0.7777777777777778,\"#fb9f3a\"],[0.8888888888888888,\"#fdca26\"],[1.0,\"#f0f921\"]]}],\"heatmap\":[{\"type\":\"heatmap\",\"colorbar\":{\"outlinewidth\":0,\"ticks\":\"\"},\"colorscale\":[[0.0,\"#0d0887\"],[0.1111111111111111,\"#46039f\"],[0.2222222222222222,\"#7201a8\"],[0.3333333333333333,\"#9c179e\"],[0.4444444444444444,\"#bd3786\"],[0.5555555555555556,\"#d8576b\"],[0.6666666666666666,\"#ed7953\"],[0.7777777777777778,\"#fb9f3a\"],[0.8888888888888888,\"#fdca26\"],[1.0,\"#f0f921\"]]}],\"heatmapgl\":[{\"type\":\"heatmapgl\",\"colorbar\":{\"outlinewidth\":0,\"ticks\":\"\"},\"colorscale\":[[0.0,\"#0d0887\"],[0.1111111111111111,\"#46039f\"],[0.2222222222222222,\"#7201a8\"],[0.3333333333333333,\"#9c179e\"],[0.4444444444444444,\"#bd3786\"],[0.5555555555555556,\"#d8576b\"],[0.6666666666666666,\"#ed7953\"],[0.7777777777777778,\"#fb9f3a\"],[0.8888888888888888,\"#fdca26\"],[1.0,\"#f0f921\"]]}],\"contourcarpet\":[{\"type\":\"contourcarpet\",\"colorbar\":{\"outlinewidth\":0,\"ticks\":\"\"}}],\"contour\":[{\"type\":\"contour\",\"colorbar\":{\"outlinewidth\":0,\"ticks\":\"\"},\"colorscale\":[[0.0,\"#0d0887\"],[0.1111111111111111,\"#46039f\"],[0.2222222222222222,\"#7201a8\"],[0.3333333333333333,\"#9c179e\"],[0.4444444444444444,\"#bd3786\"],[0.5555555555555556,\"#d8576b\"],[0.6666666666666666,\"#ed7953\"],[0.7777777777777778,\"#fb9f3a\"],[0.8888888888888888,\"#fdca26\"],[1.0,\"#f0f921\"]]}],\"surface\":[{\"type\":\"surface\",\"colorbar\":{\"outlinewidth\":0,\"ticks\":\"\"},\"colorscale\":[[0.0,\"#0d0887\"],[0.1111111111111111,\"#46039f\"],[0.2222222222222222,\"#7201a8\"],[0.3333333333333333,\"#9c179e\"],[0.4444444444444444,\"#bd3786\"],[0.5555555555555556,\"#d8576b\"],[0.6666666666666666,\"#ed7953\"],[0.7777777777777778,\"#fb9f3a\"],[0.8888888888888888,\"#fdca26\"],[1.0,\"#f0f921\"]]}],\"mesh3d\":[{\"type\":\"mesh3d\",\"colorbar\":{\"outlinewidth\":0,\"ticks\":\"\"}}],\"scatter\":[{\"fillpattern\":{\"fillmode\":\"overlay\",\"size\":10,\"solidity\":0.2},\"type\":\"scatter\"}],\"parcoords\":[{\"type\":\"parcoords\",\"line\":{\"colorbar\":{\"outlinewidth\":0,\"ticks\":\"\"}}}],\"scatterpolargl\":[{\"type\":\"scatterpolargl\",\"marker\":{\"colorbar\":{\"outlinewidth\":0,\"ticks\":\"\"}}}],\"bar\":[{\"error_x\":{\"color\":\"#2a3f5f\"},\"error_y\":{\"color\":\"#2a3f5f\"},\"marker\":{\"line\":{\"color\":\"#E5ECF6\",\"width\":0.5},\"pattern\":{\"fillmode\":\"overlay\",\"size\":10,\"solidity\":0.2}},\"type\":\"bar\"}],\"scattergeo\":[{\"type\":\"scattergeo\",\"marker\":{\"colorbar\":{\"outlinewidth\":0,\"ticks\":\"\"}}}],\"scatterpolar\":[{\"type\":\"scatterpolar\",\"marker\":{\"colorbar\":{\"outlinewidth\":0,\"ticks\":\"\"}}}],\"histogram\":[{\"marker\":{\"pattern\":{\"fillmode\":\"overlay\",\"size\":10,\"solidity\":0.2}},\"type\":\"histogram\"}],\"scattergl\":[{\"type\":\"scattergl\",\"marker\":{\"colorbar\":{\"outlinewidth\":0,\"ticks\":\"\"}}}],\"scatter3d\":[{\"type\":\"scatter3d\",\"line\":{\"colorbar\":{\"outlinewidth\":0,\"ticks\":\"\"}},\"marker\":{\"colorbar\":{\"outlinewidth\":0,\"ticks\":\"\"}}}],\"scattermapbox\":[{\"type\":\"scattermapbox\",\"marker\":{\"colorbar\":{\"outlinewidth\":0,\"ticks\":\"\"}}}],\"scatterternary\":[{\"type\":\"scatterternary\",\"marker\":{\"colorbar\":{\"outlinewidth\":0,\"ticks\":\"\"}}}],\"scattercarpet\":[{\"type\":\"scattercarpet\",\"marker\":{\"colorbar\":{\"outlinewidth\":0,\"ticks\":\"\"}}}],\"carpet\":[{\"aaxis\":{\"endlinecolor\":\"#2a3f5f\",\"gridcolor\":\"white\",\"linecolor\":\"white\",\"minorgridcolor\":\"white\",\"startlinecolor\":\"#2a3f5f\"},\"baxis\":{\"endlinecolor\":\"#2a3f5f\",\"gridcolor\":\"white\",\"linecolor\":\"white\",\"minorgridcolor\":\"white\",\"startlinecolor\":\"#2a3f5f\"},\"type\":\"carpet\"}],\"table\":[{\"cells\":{\"fill\":{\"color\":\"#EBF0F8\"},\"line\":{\"color\":\"white\"}},\"header\":{\"fill\":{\"color\":\"#C8D4E3\"},\"line\":{\"color\":\"white\"}},\"type\":\"table\"}],\"barpolar\":[{\"marker\":{\"line\":{\"color\":\"#E5ECF6\",\"width\":0.5},\"pattern\":{\"fillmode\":\"overlay\",\"size\":10,\"solidity\":0.2}},\"type\":\"barpolar\"}],\"pie\":[{\"automargin\":true,\"type\":\"pie\"}]},\"layout\":{\"autotypenumbers\":\"strict\",\"colorway\":[\"#636efa\",\"#EF553B\",\"#00cc96\",\"#ab63fa\",\"#FFA15A\",\"#19d3f3\",\"#FF6692\",\"#B6E880\",\"#FF97FF\",\"#FECB52\"],\"font\":{\"color\":\"#2a3f5f\"},\"hovermode\":\"closest\",\"hoverlabel\":{\"align\":\"left\"},\"paper_bgcolor\":\"white\",\"plot_bgcolor\":\"#E5ECF6\",\"polar\":{\"bgcolor\":\"#E5ECF6\",\"angularaxis\":{\"gridcolor\":\"white\",\"linecolor\":\"white\",\"ticks\":\"\"},\"radialaxis\":{\"gridcolor\":\"white\",\"linecolor\":\"white\",\"ticks\":\"\"}},\"ternary\":{\"bgcolor\":\"#E5ECF6\",\"aaxis\":{\"gridcolor\":\"white\",\"linecolor\":\"white\",\"ticks\":\"\"},\"baxis\":{\"gridcolor\":\"white\",\"linecolor\":\"white\",\"ticks\":\"\"},\"caxis\":{\"gridcolor\":\"white\",\"linecolor\":\"white\",\"ticks\":\"\"}},\"coloraxis\":{\"colorbar\":{\"outlinewidth\":0,\"ticks\":\"\"}},\"colorscale\":{\"sequential\":[[0.0,\"#0d0887\"],[0.1111111111111111,\"#46039f\"],[0.2222222222222222,\"#7201a8\"],[0.3333333333333333,\"#9c179e\"],[0.4444444444444444,\"#bd3786\"],[0.5555555555555556,\"#d8576b\"],[0.6666666666666666,\"#ed7953\"],[0.7777777777777778,\"#fb9f3a\"],[0.8888888888888888,\"#fdca26\"],[1.0,\"#f0f921\"]],\"sequentialminus\":[[0.0,\"#0d0887\"],[0.1111111111111111,\"#46039f\"],[0.2222222222222222,\"#7201a8\"],[0.3333333333333333,\"#9c179e\"],[0.4444444444444444,\"#bd3786\"],[0.5555555555555556,\"#d8576b\"],[0.6666666666666666,\"#ed7953\"],[0.7777777777777778,\"#fb9f3a\"],[0.8888888888888888,\"#fdca26\"],[1.0,\"#f0f921\"]],\"diverging\":[[0,\"#8e0152\"],[0.1,\"#c51b7d\"],[0.2,\"#de77ae\"],[0.3,\"#f1b6da\"],[0.4,\"#fde0ef\"],[0.5,\"#f7f7f7\"],[0.6,\"#e6f5d0\"],[0.7,\"#b8e186\"],[0.8,\"#7fbc41\"],[0.9,\"#4d9221\"],[1,\"#276419\"]]},\"xaxis\":{\"gridcolor\":\"white\",\"linecolor\":\"white\",\"ticks\":\"\",\"title\":{\"standoff\":15},\"zerolinecolor\":\"white\",\"automargin\":true,\"zerolinewidth\":2},\"yaxis\":{\"gridcolor\":\"white\",\"linecolor\":\"white\",\"ticks\":\"\",\"title\":{\"standoff\":15},\"zerolinecolor\":\"white\",\"automargin\":true,\"zerolinewidth\":2},\"scene\":{\"xaxis\":{\"backgroundcolor\":\"#E5ECF6\",\"gridcolor\":\"white\",\"linecolor\":\"white\",\"showbackground\":true,\"ticks\":\"\",\"zerolinecolor\":\"white\",\"gridwidth\":2},\"yaxis\":{\"backgroundcolor\":\"#E5ECF6\",\"gridcolor\":\"white\",\"linecolor\":\"white\",\"showbackground\":true,\"ticks\":\"\",\"zerolinecolor\":\"white\",\"gridwidth\":2},\"zaxis\":{\"backgroundcolor\":\"#E5ECF6\",\"gridcolor\":\"white\",\"linecolor\":\"white\",\"showbackground\":true,\"ticks\":\"\",\"zerolinecolor\":\"white\",\"gridwidth\":2}},\"shapedefaults\":{\"line\":{\"color\":\"#2a3f5f\"}},\"annotationdefaults\":{\"arrowcolor\":\"#2a3f5f\",\"arrowhead\":0,\"arrowwidth\":1},\"geo\":{\"bgcolor\":\"white\",\"landcolor\":\"#E5ECF6\",\"subunitcolor\":\"white\",\"showland\":true,\"showlakes\":true,\"lakecolor\":\"white\"},\"title\":{\"x\":0.05},\"mapbox\":{\"style\":\"light\"}}},\"xaxis\":{\"anchor\":\"y\",\"domain\":[0.0,1.0],\"title\":{\"text\":\"Support (Proportion of Transactions)\"}},\"yaxis\":{\"anchor\":\"x\",\"domain\":[0.0,1.0],\"title\":{\"text\":\"Confidence (P(Consequent | Antecedent))\"}},\"coloraxis\":{\"colorbar\":{\"title\":{\"text\":\"Lift (Measure of Significance)\"}},\"colorscale\":[[0.0,\"#440154\"],[0.1111111111111111,\"#482878\"],[0.2222222222222222,\"#3e4989\"],[0.3333333333333333,\"#31688e\"],[0.4444444444444444,\"#26828e\"],[0.5555555555555556,\"#1f9e89\"],[0.6666666666666666,\"#35b779\"],[0.7777777777777778,\"#6ece58\"],[0.8888888888888888,\"#b5de2b\"],[1.0,\"#fde725\"]]},\"legend\":{\"tracegroupgap\":0,\"itemsizing\":\"constant\"},\"title\":{\"text\":\"Association Rules: Support vs Confidence (sized and colored by Lift)\"},\"height\":500,\"width\":800},                        {\"responsive\": true}                    ).then(function(){\n",
       "                            \n",
       "var gd = document.getElementById('ab604091-6043-4d0a-86df-2878c9eed809');\n",
       "var x = new MutationObserver(function (mutations, observer) {{\n",
       "        var display = window.getComputedStyle(gd).display;\n",
       "        if (!display || display === 'none') {{\n",
       "            console.log([gd, 'removed!']);\n",
       "            Plotly.purge(gd);\n",
       "            observer.disconnect();\n",
       "        }}\n",
       "}});\n",
       "\n",
       "// Listen for the removal of the full notebook cells\n",
       "var notebookContainer = gd.closest('#notebook-container');\n",
       "if (notebookContainer) {{\n",
       "    x.observe(notebookContainer, {childList: true});\n",
       "}}\n",
       "\n",
       "// Listen for the clearing of the current output cell\n",
       "var outputEl = gd.closest('.output');\n",
       "if (outputEl) {{\n",
       "    x.observe(outputEl, {childList: true});\n",
       "}}\n",
       "\n",
       "                        })                };                            </script>        </div>\n",
       "</body>\n",
       "</html>"
      ]
     },
     "metadata": {},
     "output_type": "display_data"
    }
   ],
   "source": [
    "# 4. Visualize Association Rules using Plotly.\n",
    "# Plotly provides interactive charts, allowing mouseover to see details like itemsets.\n",
    "fig = px.scatter(rules, x=\"support\", y=\"confidence\", size=\"lift\", color=\"lift\",\n",
    "                 hover_data=[\"antecedents_str\", \"consequents_str\", \"support\", \"confidence\", \"lift\"],\n",
    "                 title='Association Rules: Support vs Confidence (sized and colored by Lift)',\n",
    "                 labels={\"support\": \"Support (Proportion of Transactions)\",\n",
    "                         \"confidence\": \"Confidence (P(Consequent | Antecedent))\",\n",
    "                         \"lift\": \"Lift (Measure of Significance)\",\n",
    "                         \"antecedents_str\": \"Antecedents\", # Label for hover data\n",
    "                         \"consequents_str\": \"Consequents\"}, # Label for hover data\n",
    "                 color_continuous_scale=px.colors.sequential.Viridis,\n",
    "                 width=800, height=500) # Reduced chart size\n",
    "fig.show()"
   ]
  },
  {
   "cell_type": "markdown",
   "id": "KCS8hTDkbWRb",
   "metadata": {
    "id": "KCS8hTDkbWRb"
   },
   "source": [
    "**Support** - the proportion of orders that include the item set. If an item’s support is above a set threshold, its occurrence can be considered significant.<br>\n",
    "**Confidence** – measures how many times Y is purchased / consumed when X is purchased / consumed; expressed as X → Y.<br>\n",
    "**Lift** – measures how likely Y is purchased / consumed when X is purchased/ consumed; while controlling for how popular Y is. Lift > 1 means high association between X and Y."
   ]
  },
  {
   "cell_type": "markdown",
   "id": "VRF_Vc-NC57I",
   "metadata": {
    "id": "VRF_Vc-NC57I"
   },
   "source": [
    "#### --- Part 2: Market Basket Analysis with Combined Demographic Segmentation ---"
   ]
  },
  {
   "cell_type": "code",
   "execution_count": 33,
   "id": "b34b0dff-850b-4af1-a13d-a628d644a698",
   "metadata": {
    "colab": {
     "base_uri": "https://localhost:8080/"
    },
    "executionInfo": {
     "elapsed": 30,
     "status": "ok",
     "timestamp": 1753444997507,
     "user": {
      "displayName": "Bertrand Tan",
      "userId": "13076261897196240400"
     },
     "user_tz": -480
    },
    "id": "b34b0dff-850b-4af1-a13d-a628d644a698",
    "outputId": "64b2887c-6f53-4578-e128-6e0d896c3f96"
   },
   "outputs": [
    {
     "name": "stdout",
     "output_type": "stream",
     "text": [
      "\n",
      "--- Part 2: Market Basket Analysis with Combined Demographic Segmentation ---\n",
      "Analyzing purchasing patterns by combining Gender, Occupation, and Home Ownership.\n"
     ]
    }
   ],
   "source": [
    "print(\"\\n--- Part 2: Market Basket Analysis with Combined Demographic Segmentation ---\")\n",
    "print(\"Analyzing purchasing patterns by combining Gender, Occupation, and Home Ownership.\")\n",
    "\n",
    "# Create a combined demographic column for granular segmentation.\n",
    "df['CombinedDemographic'] = df['Gender'] + '_' + df['Occupation'] + '_' + df['HomeOwnership']\n",
    "current_demographic_col = 'CombinedDemographic'\n",
    "\n",
    "# Get all unique combined demographic segments.\n",
    "unique_segments = df[current_demographic_col].unique()"
   ]
  },
  {
   "cell_type": "code",
   "execution_count": 34,
   "id": "294f61b6-6177-497c-8a28-3a679cdcb777",
   "metadata": {
    "colab": {
     "base_uri": "https://localhost:8080/",
     "height": 1000
    },
    "executionInfo": {
     "elapsed": 177,
     "status": "ok",
     "timestamp": 1753444997692,
     "user": {
      "displayName": "Bertrand Tan",
      "userId": "13076261897196240400"
     },
     "user_tz": -480
    },
    "id": "294f61b6-6177-497c-8a28-3a679cdcb777",
    "outputId": "1f0aaf05-0c4b-4e0f-a889-febe4764ed46"
   },
   "outputs": [
    {
     "name": "stdout",
     "output_type": "stream",
     "text": [
      "\n",
      "--- Current Segment: 'Female' ---\n",
      "\n",
      "  Association Rules for 'Female' (min_support=0.1, min_lift=1.0):\n",
      "         antecedents       consequents  support  confidence      lift\n",
      "13          (Cereal)             (Jam)     0.16    0.800000  2.857143\n",
      "12             (Jam)          (Cereal)     0.16    0.571429  2.857143\n",
      "33     (Jam, Coffee)           (Sugar)     0.12    0.750000  2.678571\n",
      "36           (Sugar)     (Jam, Coffee)     0.12    0.428571  2.678571\n",
      "30            (Eggs)     (Milk, Bread)     0.20    0.625000  2.604167\n",
      "27     (Milk, Bread)            (Eggs)     0.20    0.833333  2.604167\n",
      "21   (Bread, Coffee)          (Butter)     0.16    0.571429  2.040816\n",
      "24          (Butter)   (Bread, Coffee)     0.16    0.571429  2.040816\n",
      "17            (Eggs)            (Milk)     0.24    0.750000  1.875000\n",
      "16            (Milk)            (Eggs)     0.24    0.600000  1.875000\n",
      "28     (Eggs, Bread)            (Milk)     0.20    0.714286  1.785714\n",
      "29            (Milk)     (Eggs, Bread)     0.20    0.500000  1.785714\n",
      "0         (Biscuits)          (Coffee)     0.12    1.000000  1.666667\n",
      "6            (Juice)           (Bread)     0.12    1.000000  1.666667\n",
      "14           (Sugar)          (Coffee)     0.28    1.000000  1.666667\n",
      "20  (Butter, Coffee)           (Bread)     0.16    1.000000  1.666667\n",
      "32      (Jam, Sugar)          (Coffee)     0.12    1.000000  1.666667\n",
      "15          (Coffee)           (Sugar)     0.28    0.466667  1.666667\n",
      "1           (Coffee)        (Biscuits)     0.12    0.200000  1.666667\n",
      "7            (Bread)           (Juice)     0.12    0.200000  1.666667\n",
      "37          (Coffee)      (Jam, Sugar)     0.12    0.200000  1.666667\n",
      "25           (Bread)  (Butter, Coffee)     0.16    0.266667  1.666667\n",
      "10          (Butter)             (Jam)     0.12    0.428571  1.530612\n",
      "11             (Jam)          (Butter)     0.12    0.428571  1.530612\n",
      "18             (Jam)           (Sugar)     0.12    0.428571  1.530612\n",
      "19           (Sugar)             (Jam)     0.12    0.428571  1.530612\n",
      "34   (Sugar, Coffee)             (Jam)     0.12    0.428571  1.530612\n",
      "35             (Jam)   (Sugar, Coffee)     0.12    0.428571  1.530612\n",
      "4             (Eggs)           (Bread)     0.28    0.875000  1.458333\n",
      "5            (Bread)            (Eggs)     0.28    0.466667  1.458333\n",
      "26      (Milk, Eggs)           (Bread)     0.20    0.833333  1.388889\n",
      "31           (Bread)      (Milk, Eggs)     0.20    0.333333  1.388889\n",
      "22   (Butter, Bread)          (Coffee)     0.16    0.800000  1.333333\n",
      "23          (Coffee)   (Butter, Bread)     0.16    0.266667  1.333333\n",
      "2           (Butter)           (Bread)     0.20    0.714286  1.190476\n",
      "3            (Bread)          (Butter)     0.20    0.333333  1.190476\n",
      "8             (Milk)           (Bread)     0.24    0.600000  1.000000\n",
      "9            (Bread)            (Milk)     0.24    0.400000  1.000000\n"
     ]
    },
    {
     "data": {
      "text/html": [
       "<html>\n",
       "<head><meta charset=\"utf-8\" /></head>\n",
       "<body>\n",
       "    <div>            <script src=\"https://cdnjs.cloudflare.com/ajax/libs/mathjax/2.7.5/MathJax.js?config=TeX-AMS-MML_SVG\"></script><script type=\"text/javascript\">if (window.MathJax && window.MathJax.Hub && window.MathJax.Hub.Config) {window.MathJax.Hub.Config({SVG: {font: \"STIX-Web\"}});}</script>                <script type=\"text/javascript\">window.PlotlyConfig = {MathJaxConfig: 'local'};</script>\n",
       "        <script charset=\"utf-8\" src=\"https://cdn.plot.ly/plotly-2.35.2.min.js\"></script>                <div id=\"dddf4da2-9ec6-4787-8cb8-ba1f45f78b49\" class=\"plotly-graph-div\" style=\"height:500px; width:800px;\"></div>            <script type=\"text/javascript\">                                    window.PLOTLYENV=window.PLOTLYENV || {};                                    if (document.getElementById(\"dddf4da2-9ec6-4787-8cb8-ba1f45f78b49\")) {                    Plotly.newPlot(                        \"dddf4da2-9ec6-4787-8cb8-ba1f45f78b49\",                        [{\"customdata\":[[\"Cereal\",\"Jam\",2.8571428571428568],[\"Jam\",\"Cereal\",2.8571428571428568],[\"Jam, Coffee\",\"Sugar\",2.6785714285714284],[\"Sugar\",\"Jam, Coffee\",2.678571428571428],[\"Eggs\",\"Milk, Bread\",2.604166666666667],[\"Milk, Bread\",\"Eggs\",2.6041666666666665],[\"Bread, Coffee\",\"Butter\",2.040816326530612],[\"Butter\",\"Bread, Coffee\",2.040816326530612],[\"Eggs\",\"Milk\",1.875],[\"Milk\",\"Eggs\",1.875],[\"Eggs, Bread\",\"Milk\",1.7857142857142856],[\"Milk\",\"Eggs, Bread\",1.7857142857142856],[\"Biscuits\",\"Coffee\",1.6666666666666667],[\"Juice\",\"Bread\",1.6666666666666667],[\"Sugar\",\"Coffee\",1.6666666666666667],[\"Butter, Coffee\",\"Bread\",1.6666666666666667],[\"Jam, Sugar\",\"Coffee\",1.6666666666666667],[\"Coffee\",\"Sugar\",1.6666666666666667],[\"Coffee\",\"Biscuits\",1.6666666666666667],[\"Bread\",\"Juice\",1.6666666666666667],[\"Coffee\",\"Jam, Sugar\",1.6666666666666667],[\"Bread\",\"Butter, Coffee\",1.6666666666666665],[\"Butter\",\"Jam\",1.5306122448979587],[\"Jam\",\"Butter\",1.5306122448979587],[\"Jam\",\"Sugar\",1.5306122448979587],[\"Sugar\",\"Jam\",1.5306122448979587],[\"Sugar, Coffee\",\"Jam\",1.5306122448979587],[\"Jam\",\"Sugar, Coffee\",1.5306122448979587],[\"Eggs\",\"Bread\",1.4583333333333335],[\"Bread\",\"Eggs\",1.4583333333333335],[\"Milk, Eggs\",\"Bread\",1.388888888888889],[\"Bread\",\"Milk, Eggs\",1.388888888888889],[\"Butter, Bread\",\"Coffee\",1.3333333333333333],[\"Coffee\",\"Butter, Bread\",1.3333333333333333],[\"Butter\",\"Bread\",1.1904761904761905],[\"Bread\",\"Butter\",1.1904761904761905],[\"Milk\",\"Bread\",1.0],[\"Bread\",\"Milk\",1.0]],\"hovertemplate\":\"Support (Proportion of Transactions)=%{x}\\u003cbr\\u003eConfidence (P(Consequent | Antecedent))=%{y}\\u003cbr\\u003elift=%{marker.color}\\u003cbr\\u003eAntecedents=%{customdata[0]}\\u003cbr\\u003eConsequents=%{customdata[1]}\\u003cextra\\u003e\\u003c\\u002fextra\\u003e\",\"legendgroup\":\"\",\"marker\":{\"color\":[2.8571428571428568,2.8571428571428568,2.6785714285714284,2.678571428571428,2.604166666666667,2.6041666666666665,2.040816326530612,2.040816326530612,1.875,1.875,1.7857142857142856,1.7857142857142856,1.6666666666666667,1.6666666666666667,1.6666666666666667,1.6666666666666667,1.6666666666666667,1.6666666666666667,1.6666666666666667,1.6666666666666667,1.6666666666666667,1.6666666666666665,1.5306122448979587,1.5306122448979587,1.5306122448979587,1.5306122448979587,1.5306122448979587,1.5306122448979587,1.4583333333333335,1.4583333333333335,1.388888888888889,1.388888888888889,1.3333333333333333,1.3333333333333333,1.1904761904761905,1.1904761904761905,1.0,1.0],\"coloraxis\":\"coloraxis\",\"size\":[2.8571428571428568,2.8571428571428568,2.6785714285714284,2.678571428571428,2.604166666666667,2.6041666666666665,2.040816326530612,2.040816326530612,1.875,1.875,1.7857142857142856,1.7857142857142856,1.6666666666666667,1.6666666666666667,1.6666666666666667,1.6666666666666667,1.6666666666666667,1.6666666666666667,1.6666666666666667,1.6666666666666667,1.6666666666666667,1.6666666666666665,1.5306122448979587,1.5306122448979587,1.5306122448979587,1.5306122448979587,1.5306122448979587,1.5306122448979587,1.4583333333333335,1.4583333333333335,1.388888888888889,1.388888888888889,1.3333333333333333,1.3333333333333333,1.1904761904761905,1.1904761904761905,1.0,1.0],\"sizemode\":\"area\",\"sizeref\":0.007142857142857142,\"symbol\":\"circle\"},\"mode\":\"markers\",\"name\":\"\",\"orientation\":\"v\",\"showlegend\":false,\"x\":[0.16,0.16,0.12,0.12,0.2,0.2,0.16,0.16,0.24,0.24,0.2,0.2,0.12,0.12,0.28,0.16,0.12,0.28,0.12,0.12,0.12,0.16,0.12,0.12,0.12,0.12,0.12,0.12,0.28,0.28,0.2,0.2,0.16,0.16,0.2,0.2,0.24,0.24],\"xaxis\":\"x\",\"y\":[0.7999999999999999,0.5714285714285714,0.75,0.4285714285714285,0.625,0.8333333333333334,0.5714285714285714,0.5714285714285714,0.75,0.6,0.7142857142857143,0.5,1.0,1.0,1.0,1.0,1.0,0.46666666666666673,0.2,0.2,0.2,0.26666666666666666,0.4285714285714285,0.4285714285714285,0.4285714285714285,0.4285714285714285,0.4285714285714285,0.4285714285714285,0.8750000000000001,0.46666666666666673,0.8333333333333334,0.33333333333333337,0.7999999999999999,0.26666666666666666,0.7142857142857143,0.33333333333333337,0.6,0.4],\"yaxis\":\"y\",\"type\":\"scatter\"}],                        {\"template\":{\"data\":{\"histogram2dcontour\":[{\"type\":\"histogram2dcontour\",\"colorbar\":{\"outlinewidth\":0,\"ticks\":\"\"},\"colorscale\":[[0.0,\"#0d0887\"],[0.1111111111111111,\"#46039f\"],[0.2222222222222222,\"#7201a8\"],[0.3333333333333333,\"#9c179e\"],[0.4444444444444444,\"#bd3786\"],[0.5555555555555556,\"#d8576b\"],[0.6666666666666666,\"#ed7953\"],[0.7777777777777778,\"#fb9f3a\"],[0.8888888888888888,\"#fdca26\"],[1.0,\"#f0f921\"]]}],\"choropleth\":[{\"type\":\"choropleth\",\"colorbar\":{\"outlinewidth\":0,\"ticks\":\"\"}}],\"histogram2d\":[{\"type\":\"histogram2d\",\"colorbar\":{\"outlinewidth\":0,\"ticks\":\"\"},\"colorscale\":[[0.0,\"#0d0887\"],[0.1111111111111111,\"#46039f\"],[0.2222222222222222,\"#7201a8\"],[0.3333333333333333,\"#9c179e\"],[0.4444444444444444,\"#bd3786\"],[0.5555555555555556,\"#d8576b\"],[0.6666666666666666,\"#ed7953\"],[0.7777777777777778,\"#fb9f3a\"],[0.8888888888888888,\"#fdca26\"],[1.0,\"#f0f921\"]]}],\"heatmap\":[{\"type\":\"heatmap\",\"colorbar\":{\"outlinewidth\":0,\"ticks\":\"\"},\"colorscale\":[[0.0,\"#0d0887\"],[0.1111111111111111,\"#46039f\"],[0.2222222222222222,\"#7201a8\"],[0.3333333333333333,\"#9c179e\"],[0.4444444444444444,\"#bd3786\"],[0.5555555555555556,\"#d8576b\"],[0.6666666666666666,\"#ed7953\"],[0.7777777777777778,\"#fb9f3a\"],[0.8888888888888888,\"#fdca26\"],[1.0,\"#f0f921\"]]}],\"heatmapgl\":[{\"type\":\"heatmapgl\",\"colorbar\":{\"outlinewidth\":0,\"ticks\":\"\"},\"colorscale\":[[0.0,\"#0d0887\"],[0.1111111111111111,\"#46039f\"],[0.2222222222222222,\"#7201a8\"],[0.3333333333333333,\"#9c179e\"],[0.4444444444444444,\"#bd3786\"],[0.5555555555555556,\"#d8576b\"],[0.6666666666666666,\"#ed7953\"],[0.7777777777777778,\"#fb9f3a\"],[0.8888888888888888,\"#fdca26\"],[1.0,\"#f0f921\"]]}],\"contourcarpet\":[{\"type\":\"contourcarpet\",\"colorbar\":{\"outlinewidth\":0,\"ticks\":\"\"}}],\"contour\":[{\"type\":\"contour\",\"colorbar\":{\"outlinewidth\":0,\"ticks\":\"\"},\"colorscale\":[[0.0,\"#0d0887\"],[0.1111111111111111,\"#46039f\"],[0.2222222222222222,\"#7201a8\"],[0.3333333333333333,\"#9c179e\"],[0.4444444444444444,\"#bd3786\"],[0.5555555555555556,\"#d8576b\"],[0.6666666666666666,\"#ed7953\"],[0.7777777777777778,\"#fb9f3a\"],[0.8888888888888888,\"#fdca26\"],[1.0,\"#f0f921\"]]}],\"surface\":[{\"type\":\"surface\",\"colorbar\":{\"outlinewidth\":0,\"ticks\":\"\"},\"colorscale\":[[0.0,\"#0d0887\"],[0.1111111111111111,\"#46039f\"],[0.2222222222222222,\"#7201a8\"],[0.3333333333333333,\"#9c179e\"],[0.4444444444444444,\"#bd3786\"],[0.5555555555555556,\"#d8576b\"],[0.6666666666666666,\"#ed7953\"],[0.7777777777777778,\"#fb9f3a\"],[0.8888888888888888,\"#fdca26\"],[1.0,\"#f0f921\"]]}],\"mesh3d\":[{\"type\":\"mesh3d\",\"colorbar\":{\"outlinewidth\":0,\"ticks\":\"\"}}],\"scatter\":[{\"fillpattern\":{\"fillmode\":\"overlay\",\"size\":10,\"solidity\":0.2},\"type\":\"scatter\"}],\"parcoords\":[{\"type\":\"parcoords\",\"line\":{\"colorbar\":{\"outlinewidth\":0,\"ticks\":\"\"}}}],\"scatterpolargl\":[{\"type\":\"scatterpolargl\",\"marker\":{\"colorbar\":{\"outlinewidth\":0,\"ticks\":\"\"}}}],\"bar\":[{\"error_x\":{\"color\":\"#2a3f5f\"},\"error_y\":{\"color\":\"#2a3f5f\"},\"marker\":{\"line\":{\"color\":\"#E5ECF6\",\"width\":0.5},\"pattern\":{\"fillmode\":\"overlay\",\"size\":10,\"solidity\":0.2}},\"type\":\"bar\"}],\"scattergeo\":[{\"type\":\"scattergeo\",\"marker\":{\"colorbar\":{\"outlinewidth\":0,\"ticks\":\"\"}}}],\"scatterpolar\":[{\"type\":\"scatterpolar\",\"marker\":{\"colorbar\":{\"outlinewidth\":0,\"ticks\":\"\"}}}],\"histogram\":[{\"marker\":{\"pattern\":{\"fillmode\":\"overlay\",\"size\":10,\"solidity\":0.2}},\"type\":\"histogram\"}],\"scattergl\":[{\"type\":\"scattergl\",\"marker\":{\"colorbar\":{\"outlinewidth\":0,\"ticks\":\"\"}}}],\"scatter3d\":[{\"type\":\"scatter3d\",\"line\":{\"colorbar\":{\"outlinewidth\":0,\"ticks\":\"\"}},\"marker\":{\"colorbar\":{\"outlinewidth\":0,\"ticks\":\"\"}}}],\"scattermapbox\":[{\"type\":\"scattermapbox\",\"marker\":{\"colorbar\":{\"outlinewidth\":0,\"ticks\":\"\"}}}],\"scatterternary\":[{\"type\":\"scatterternary\",\"marker\":{\"colorbar\":{\"outlinewidth\":0,\"ticks\":\"\"}}}],\"scattercarpet\":[{\"type\":\"scattercarpet\",\"marker\":{\"colorbar\":{\"outlinewidth\":0,\"ticks\":\"\"}}}],\"carpet\":[{\"aaxis\":{\"endlinecolor\":\"#2a3f5f\",\"gridcolor\":\"white\",\"linecolor\":\"white\",\"minorgridcolor\":\"white\",\"startlinecolor\":\"#2a3f5f\"},\"baxis\":{\"endlinecolor\":\"#2a3f5f\",\"gridcolor\":\"white\",\"linecolor\":\"white\",\"minorgridcolor\":\"white\",\"startlinecolor\":\"#2a3f5f\"},\"type\":\"carpet\"}],\"table\":[{\"cells\":{\"fill\":{\"color\":\"#EBF0F8\"},\"line\":{\"color\":\"white\"}},\"header\":{\"fill\":{\"color\":\"#C8D4E3\"},\"line\":{\"color\":\"white\"}},\"type\":\"table\"}],\"barpolar\":[{\"marker\":{\"line\":{\"color\":\"#E5ECF6\",\"width\":0.5},\"pattern\":{\"fillmode\":\"overlay\",\"size\":10,\"solidity\":0.2}},\"type\":\"barpolar\"}],\"pie\":[{\"automargin\":true,\"type\":\"pie\"}]},\"layout\":{\"autotypenumbers\":\"strict\",\"colorway\":[\"#636efa\",\"#EF553B\",\"#00cc96\",\"#ab63fa\",\"#FFA15A\",\"#19d3f3\",\"#FF6692\",\"#B6E880\",\"#FF97FF\",\"#FECB52\"],\"font\":{\"color\":\"#2a3f5f\"},\"hovermode\":\"closest\",\"hoverlabel\":{\"align\":\"left\"},\"paper_bgcolor\":\"white\",\"plot_bgcolor\":\"#E5ECF6\",\"polar\":{\"bgcolor\":\"#E5ECF6\",\"angularaxis\":{\"gridcolor\":\"white\",\"linecolor\":\"white\",\"ticks\":\"\"},\"radialaxis\":{\"gridcolor\":\"white\",\"linecolor\":\"white\",\"ticks\":\"\"}},\"ternary\":{\"bgcolor\":\"#E5ECF6\",\"aaxis\":{\"gridcolor\":\"white\",\"linecolor\":\"white\",\"ticks\":\"\"},\"baxis\":{\"gridcolor\":\"white\",\"linecolor\":\"white\",\"ticks\":\"\"},\"caxis\":{\"gridcolor\":\"white\",\"linecolor\":\"white\",\"ticks\":\"\"}},\"coloraxis\":{\"colorbar\":{\"outlinewidth\":0,\"ticks\":\"\"}},\"colorscale\":{\"sequential\":[[0.0,\"#0d0887\"],[0.1111111111111111,\"#46039f\"],[0.2222222222222222,\"#7201a8\"],[0.3333333333333333,\"#9c179e\"],[0.4444444444444444,\"#bd3786\"],[0.5555555555555556,\"#d8576b\"],[0.6666666666666666,\"#ed7953\"],[0.7777777777777778,\"#fb9f3a\"],[0.8888888888888888,\"#fdca26\"],[1.0,\"#f0f921\"]],\"sequentialminus\":[[0.0,\"#0d0887\"],[0.1111111111111111,\"#46039f\"],[0.2222222222222222,\"#7201a8\"],[0.3333333333333333,\"#9c179e\"],[0.4444444444444444,\"#bd3786\"],[0.5555555555555556,\"#d8576b\"],[0.6666666666666666,\"#ed7953\"],[0.7777777777777778,\"#fb9f3a\"],[0.8888888888888888,\"#fdca26\"],[1.0,\"#f0f921\"]],\"diverging\":[[0,\"#8e0152\"],[0.1,\"#c51b7d\"],[0.2,\"#de77ae\"],[0.3,\"#f1b6da\"],[0.4,\"#fde0ef\"],[0.5,\"#f7f7f7\"],[0.6,\"#e6f5d0\"],[0.7,\"#b8e186\"],[0.8,\"#7fbc41\"],[0.9,\"#4d9221\"],[1,\"#276419\"]]},\"xaxis\":{\"gridcolor\":\"white\",\"linecolor\":\"white\",\"ticks\":\"\",\"title\":{\"standoff\":15},\"zerolinecolor\":\"white\",\"automargin\":true,\"zerolinewidth\":2},\"yaxis\":{\"gridcolor\":\"white\",\"linecolor\":\"white\",\"ticks\":\"\",\"title\":{\"standoff\":15},\"zerolinecolor\":\"white\",\"automargin\":true,\"zerolinewidth\":2},\"scene\":{\"xaxis\":{\"backgroundcolor\":\"#E5ECF6\",\"gridcolor\":\"white\",\"linecolor\":\"white\",\"showbackground\":true,\"ticks\":\"\",\"zerolinecolor\":\"white\",\"gridwidth\":2},\"yaxis\":{\"backgroundcolor\":\"#E5ECF6\",\"gridcolor\":\"white\",\"linecolor\":\"white\",\"showbackground\":true,\"ticks\":\"\",\"zerolinecolor\":\"white\",\"gridwidth\":2},\"zaxis\":{\"backgroundcolor\":\"#E5ECF6\",\"gridcolor\":\"white\",\"linecolor\":\"white\",\"showbackground\":true,\"ticks\":\"\",\"zerolinecolor\":\"white\",\"gridwidth\":2}},\"shapedefaults\":{\"line\":{\"color\":\"#2a3f5f\"}},\"annotationdefaults\":{\"arrowcolor\":\"#2a3f5f\",\"arrowhead\":0,\"arrowwidth\":1},\"geo\":{\"bgcolor\":\"white\",\"landcolor\":\"#E5ECF6\",\"subunitcolor\":\"white\",\"showland\":true,\"showlakes\":true,\"lakecolor\":\"white\"},\"title\":{\"x\":0.05},\"mapbox\":{\"style\":\"light\"}}},\"xaxis\":{\"anchor\":\"y\",\"domain\":[0.0,1.0],\"title\":{\"text\":\"Support (Proportion of Transactions)\"}},\"yaxis\":{\"anchor\":\"x\",\"domain\":[0.0,1.0],\"title\":{\"text\":\"Confidence (P(Consequent | Antecedent))\"}},\"coloraxis\":{\"colorbar\":{\"title\":{\"text\":\"lift\"}},\"colorscale\":[[0.0,\"#440154\"],[0.1111111111111111,\"#482878\"],[0.2222222222222222,\"#3e4989\"],[0.3333333333333333,\"#31688e\"],[0.4444444444444444,\"#26828e\"],[0.5555555555555556,\"#1f9e89\"],[0.6666666666666666,\"#35b779\"],[0.7777777777777778,\"#6ece58\"],[0.8888888888888888,\"#b5de2b\"],[1.0,\"#fde725\"]]},\"legend\":{\"tracegroupgap\":0,\"itemsizing\":\"constant\"},\"title\":{\"text\":\"Association Rules for Female (sized and colored by Lift)\"},\"height\":500,\"width\":800},                        {\"responsive\": true}                    ).then(function(){\n",
       "                            \n",
       "var gd = document.getElementById('dddf4da2-9ec6-4787-8cb8-ba1f45f78b49');\n",
       "var x = new MutationObserver(function (mutations, observer) {{\n",
       "        var display = window.getComputedStyle(gd).display;\n",
       "        if (!display || display === 'none') {{\n",
       "            console.log([gd, 'removed!']);\n",
       "            Plotly.purge(gd);\n",
       "            observer.disconnect();\n",
       "        }}\n",
       "}});\n",
       "\n",
       "// Listen for the removal of the full notebook cells\n",
       "var notebookContainer = gd.closest('#notebook-container');\n",
       "if (notebookContainer) {{\n",
       "    x.observe(notebookContainer, {childList: true});\n",
       "}}\n",
       "\n",
       "// Listen for the clearing of the current output cell\n",
       "var outputEl = gd.closest('.output');\n",
       "if (outputEl) {{\n",
       "    x.observe(outputEl, {childList: true});\n",
       "}}\n",
       "\n",
       "                        })                };                            </script>        </div>\n",
       "</body>\n",
       "</html>"
      ]
     },
     "metadata": {},
     "output_type": "display_data"
    },
    {
     "name": "stdout",
     "output_type": "stream",
     "text": [
      "\n",
      "--- Current Segment: 'Male' ---\n",
      "\n",
      "  Association Rules for 'Male' (min_support=0.1, min_lift=1.0):\n",
      "         antecedents       consequents  support  confidence      lift\n",
      "5             (Soda)            (Beer)     0.16    1.000000  3.125000\n",
      "20   (Diapers, Milk)            (Beer)     0.12    1.000000  3.125000\n",
      "25   (Diapers, Soda)            (Beer)     0.16    1.000000  3.125000\n",
      "29            (Soda)   (Diapers, Beer)     0.16    1.000000  3.125000\n",
      "4             (Beer)            (Soda)     0.16    0.500000  3.125000\n",
      "24   (Diapers, Beer)            (Soda)     0.16    0.500000  3.125000\n",
      "28            (Beer)   (Diapers, Soda)     0.16    0.500000  3.125000\n",
      "23            (Beer)   (Diapers, Milk)     0.12    0.375000  3.125000\n",
      "3             (Beer)         (Diapers)     0.32    1.000000  2.500000\n",
      "9            (Chips)         (Diapers)     0.20    1.000000  2.500000\n",
      "11            (Soda)         (Diapers)     0.16    1.000000  2.500000\n",
      "16     (Beer, Chips)         (Diapers)     0.12    1.000000  2.500000\n",
      "21      (Milk, Beer)         (Diapers)     0.12    1.000000  2.500000\n",
      "26      (Beer, Soda)         (Diapers)     0.16    1.000000  2.500000\n",
      "8          (Diapers)           (Chips)     0.20    0.500000  2.500000\n",
      "17         (Diapers)     (Beer, Chips)     0.12    0.300000  2.500000\n",
      "22         (Diapers)      (Milk, Beer)     0.12    0.300000  2.500000\n",
      "2          (Diapers)            (Beer)     0.32    0.800000  2.500000\n",
      "10         (Diapers)            (Soda)     0.16    0.400000  2.500000\n",
      "27         (Diapers)      (Beer, Soda)     0.16    0.400000  2.500000\n",
      "1            (Chips)            (Beer)     0.12    0.600000  1.875000\n",
      "15  (Diapers, Chips)            (Beer)     0.12    0.600000  1.875000\n",
      "19           (Chips)   (Diapers, Beer)     0.12    0.600000  1.875000\n",
      "0             (Beer)           (Chips)     0.12    0.375000  1.875000\n",
      "14   (Diapers, Beer)           (Chips)     0.12    0.375000  1.875000\n",
      "18            (Beer)  (Diapers, Chips)     0.12    0.375000  1.875000\n",
      "6           (Cheese)            (Milk)     0.24    1.000000  1.666667\n",
      "7             (Milk)          (Cheese)     0.24    0.400000  1.666667\n",
      "13             (Jam)            (Milk)     0.16    0.666667  1.111111\n",
      "12            (Milk)             (Jam)     0.16    0.266667  1.111111\n"
     ]
    },
    {
     "data": {
      "text/html": [
       "<html>\n",
       "<head><meta charset=\"utf-8\" /></head>\n",
       "<body>\n",
       "    <div>            <script src=\"https://cdnjs.cloudflare.com/ajax/libs/mathjax/2.7.5/MathJax.js?config=TeX-AMS-MML_SVG\"></script><script type=\"text/javascript\">if (window.MathJax && window.MathJax.Hub && window.MathJax.Hub.Config) {window.MathJax.Hub.Config({SVG: {font: \"STIX-Web\"}});}</script>                <script type=\"text/javascript\">window.PlotlyConfig = {MathJaxConfig: 'local'};</script>\n",
       "        <script charset=\"utf-8\" src=\"https://cdn.plot.ly/plotly-2.35.2.min.js\"></script>                <div id=\"cd368ee7-7b91-4ae8-a6aa-4338c29cdbf8\" class=\"plotly-graph-div\" style=\"height:500px; width:800px;\"></div>            <script type=\"text/javascript\">                                    window.PLOTLYENV=window.PLOTLYENV || {};                                    if (document.getElementById(\"cd368ee7-7b91-4ae8-a6aa-4338c29cdbf8\")) {                    Plotly.newPlot(                        \"cd368ee7-7b91-4ae8-a6aa-4338c29cdbf8\",                        [{\"customdata\":[[\"Soda\",\"Beer\",3.125],[\"Diapers, Milk\",\"Beer\",3.125],[\"Diapers, Soda\",\"Beer\",3.125],[\"Soda\",\"Diapers, Beer\",3.125],[\"Beer\",\"Soda\",3.125],[\"Diapers, Beer\",\"Soda\",3.125],[\"Beer\",\"Diapers, Soda\",3.125],[\"Beer\",\"Diapers, Milk\",3.125],[\"Beer\",\"Diapers\",2.5],[\"Chips\",\"Diapers\",2.5],[\"Soda\",\"Diapers\",2.5],[\"Beer, Chips\",\"Diapers\",2.5],[\"Milk, Beer\",\"Diapers\",2.5],[\"Beer, Soda\",\"Diapers\",2.5],[\"Diapers\",\"Chips\",2.5],[\"Diapers\",\"Beer, Chips\",2.5],[\"Diapers\",\"Milk, Beer\",2.5],[\"Diapers\",\"Beer\",2.4999999999999996],[\"Diapers\",\"Soda\",2.4999999999999996],[\"Diapers\",\"Beer, Soda\",2.4999999999999996],[\"Chips\",\"Beer\",1.875],[\"Diapers, Chips\",\"Beer\",1.875],[\"Chips\",\"Diapers, Beer\",1.875],[\"Beer\",\"Chips\",1.875],[\"Diapers, Beer\",\"Chips\",1.875],[\"Beer\",\"Diapers, Chips\",1.875],[\"Cheese\",\"Milk\",1.6666666666666667],[\"Milk\",\"Cheese\",1.6666666666666667],[\"Jam\",\"Milk\",1.1111111111111114],[\"Milk\",\"Jam\",1.1111111111111112]],\"hovertemplate\":\"Support (Proportion of Transactions)=%{x}\\u003cbr\\u003eConfidence (P(Consequent | Antecedent))=%{y}\\u003cbr\\u003elift=%{marker.color}\\u003cbr\\u003eAntecedents=%{customdata[0]}\\u003cbr\\u003eConsequents=%{customdata[1]}\\u003cextra\\u003e\\u003c\\u002fextra\\u003e\",\"legendgroup\":\"\",\"marker\":{\"color\":[3.125,3.125,3.125,3.125,3.125,3.125,3.125,3.125,2.5,2.5,2.5,2.5,2.5,2.5,2.5,2.5,2.5,2.4999999999999996,2.4999999999999996,2.4999999999999996,1.875,1.875,1.875,1.875,1.875,1.875,1.6666666666666667,1.6666666666666667,1.1111111111111114,1.1111111111111112],\"coloraxis\":\"coloraxis\",\"size\":[3.125,3.125,3.125,3.125,3.125,3.125,3.125,3.125,2.5,2.5,2.5,2.5,2.5,2.5,2.5,2.5,2.5,2.4999999999999996,2.4999999999999996,2.4999999999999996,1.875,1.875,1.875,1.875,1.875,1.875,1.6666666666666667,1.6666666666666667,1.1111111111111114,1.1111111111111112],\"sizemode\":\"area\",\"sizeref\":0.0078125,\"symbol\":\"circle\"},\"mode\":\"markers\",\"name\":\"\",\"orientation\":\"v\",\"showlegend\":false,\"x\":[0.16,0.12,0.16,0.16,0.16,0.16,0.16,0.12,0.32,0.2,0.16,0.12,0.12,0.16,0.2,0.12,0.12,0.32,0.16,0.16,0.12,0.12,0.12,0.12,0.12,0.12,0.24,0.24,0.16,0.16],\"xaxis\":\"x\",\"y\":[1.0,1.0,1.0,1.0,0.5,0.5,0.5,0.375,1.0,1.0,1.0,1.0,1.0,1.0,0.5,0.3,0.3,0.7999999999999999,0.39999999999999997,0.39999999999999997,0.6,0.6,0.6,0.375,0.375,0.375,1.0,0.4,0.6666666666666667,0.26666666666666666],\"yaxis\":\"y\",\"type\":\"scatter\"}],                        {\"template\":{\"data\":{\"histogram2dcontour\":[{\"type\":\"histogram2dcontour\",\"colorbar\":{\"outlinewidth\":0,\"ticks\":\"\"},\"colorscale\":[[0.0,\"#0d0887\"],[0.1111111111111111,\"#46039f\"],[0.2222222222222222,\"#7201a8\"],[0.3333333333333333,\"#9c179e\"],[0.4444444444444444,\"#bd3786\"],[0.5555555555555556,\"#d8576b\"],[0.6666666666666666,\"#ed7953\"],[0.7777777777777778,\"#fb9f3a\"],[0.8888888888888888,\"#fdca26\"],[1.0,\"#f0f921\"]]}],\"choropleth\":[{\"type\":\"choropleth\",\"colorbar\":{\"outlinewidth\":0,\"ticks\":\"\"}}],\"histogram2d\":[{\"type\":\"histogram2d\",\"colorbar\":{\"outlinewidth\":0,\"ticks\":\"\"},\"colorscale\":[[0.0,\"#0d0887\"],[0.1111111111111111,\"#46039f\"],[0.2222222222222222,\"#7201a8\"],[0.3333333333333333,\"#9c179e\"],[0.4444444444444444,\"#bd3786\"],[0.5555555555555556,\"#d8576b\"],[0.6666666666666666,\"#ed7953\"],[0.7777777777777778,\"#fb9f3a\"],[0.8888888888888888,\"#fdca26\"],[1.0,\"#f0f921\"]]}],\"heatmap\":[{\"type\":\"heatmap\",\"colorbar\":{\"outlinewidth\":0,\"ticks\":\"\"},\"colorscale\":[[0.0,\"#0d0887\"],[0.1111111111111111,\"#46039f\"],[0.2222222222222222,\"#7201a8\"],[0.3333333333333333,\"#9c179e\"],[0.4444444444444444,\"#bd3786\"],[0.5555555555555556,\"#d8576b\"],[0.6666666666666666,\"#ed7953\"],[0.7777777777777778,\"#fb9f3a\"],[0.8888888888888888,\"#fdca26\"],[1.0,\"#f0f921\"]]}],\"heatmapgl\":[{\"type\":\"heatmapgl\",\"colorbar\":{\"outlinewidth\":0,\"ticks\":\"\"},\"colorscale\":[[0.0,\"#0d0887\"],[0.1111111111111111,\"#46039f\"],[0.2222222222222222,\"#7201a8\"],[0.3333333333333333,\"#9c179e\"],[0.4444444444444444,\"#bd3786\"],[0.5555555555555556,\"#d8576b\"],[0.6666666666666666,\"#ed7953\"],[0.7777777777777778,\"#fb9f3a\"],[0.8888888888888888,\"#fdca26\"],[1.0,\"#f0f921\"]]}],\"contourcarpet\":[{\"type\":\"contourcarpet\",\"colorbar\":{\"outlinewidth\":0,\"ticks\":\"\"}}],\"contour\":[{\"type\":\"contour\",\"colorbar\":{\"outlinewidth\":0,\"ticks\":\"\"},\"colorscale\":[[0.0,\"#0d0887\"],[0.1111111111111111,\"#46039f\"],[0.2222222222222222,\"#7201a8\"],[0.3333333333333333,\"#9c179e\"],[0.4444444444444444,\"#bd3786\"],[0.5555555555555556,\"#d8576b\"],[0.6666666666666666,\"#ed7953\"],[0.7777777777777778,\"#fb9f3a\"],[0.8888888888888888,\"#fdca26\"],[1.0,\"#f0f921\"]]}],\"surface\":[{\"type\":\"surface\",\"colorbar\":{\"outlinewidth\":0,\"ticks\":\"\"},\"colorscale\":[[0.0,\"#0d0887\"],[0.1111111111111111,\"#46039f\"],[0.2222222222222222,\"#7201a8\"],[0.3333333333333333,\"#9c179e\"],[0.4444444444444444,\"#bd3786\"],[0.5555555555555556,\"#d8576b\"],[0.6666666666666666,\"#ed7953\"],[0.7777777777777778,\"#fb9f3a\"],[0.8888888888888888,\"#fdca26\"],[1.0,\"#f0f921\"]]}],\"mesh3d\":[{\"type\":\"mesh3d\",\"colorbar\":{\"outlinewidth\":0,\"ticks\":\"\"}}],\"scatter\":[{\"fillpattern\":{\"fillmode\":\"overlay\",\"size\":10,\"solidity\":0.2},\"type\":\"scatter\"}],\"parcoords\":[{\"type\":\"parcoords\",\"line\":{\"colorbar\":{\"outlinewidth\":0,\"ticks\":\"\"}}}],\"scatterpolargl\":[{\"type\":\"scatterpolargl\",\"marker\":{\"colorbar\":{\"outlinewidth\":0,\"ticks\":\"\"}}}],\"bar\":[{\"error_x\":{\"color\":\"#2a3f5f\"},\"error_y\":{\"color\":\"#2a3f5f\"},\"marker\":{\"line\":{\"color\":\"#E5ECF6\",\"width\":0.5},\"pattern\":{\"fillmode\":\"overlay\",\"size\":10,\"solidity\":0.2}},\"type\":\"bar\"}],\"scattergeo\":[{\"type\":\"scattergeo\",\"marker\":{\"colorbar\":{\"outlinewidth\":0,\"ticks\":\"\"}}}],\"scatterpolar\":[{\"type\":\"scatterpolar\",\"marker\":{\"colorbar\":{\"outlinewidth\":0,\"ticks\":\"\"}}}],\"histogram\":[{\"marker\":{\"pattern\":{\"fillmode\":\"overlay\",\"size\":10,\"solidity\":0.2}},\"type\":\"histogram\"}],\"scattergl\":[{\"type\":\"scattergl\",\"marker\":{\"colorbar\":{\"outlinewidth\":0,\"ticks\":\"\"}}}],\"scatter3d\":[{\"type\":\"scatter3d\",\"line\":{\"colorbar\":{\"outlinewidth\":0,\"ticks\":\"\"}},\"marker\":{\"colorbar\":{\"outlinewidth\":0,\"ticks\":\"\"}}}],\"scattermapbox\":[{\"type\":\"scattermapbox\",\"marker\":{\"colorbar\":{\"outlinewidth\":0,\"ticks\":\"\"}}}],\"scatterternary\":[{\"type\":\"scatterternary\",\"marker\":{\"colorbar\":{\"outlinewidth\":0,\"ticks\":\"\"}}}],\"scattercarpet\":[{\"type\":\"scattercarpet\",\"marker\":{\"colorbar\":{\"outlinewidth\":0,\"ticks\":\"\"}}}],\"carpet\":[{\"aaxis\":{\"endlinecolor\":\"#2a3f5f\",\"gridcolor\":\"white\",\"linecolor\":\"white\",\"minorgridcolor\":\"white\",\"startlinecolor\":\"#2a3f5f\"},\"baxis\":{\"endlinecolor\":\"#2a3f5f\",\"gridcolor\":\"white\",\"linecolor\":\"white\",\"minorgridcolor\":\"white\",\"startlinecolor\":\"#2a3f5f\"},\"type\":\"carpet\"}],\"table\":[{\"cells\":{\"fill\":{\"color\":\"#EBF0F8\"},\"line\":{\"color\":\"white\"}},\"header\":{\"fill\":{\"color\":\"#C8D4E3\"},\"line\":{\"color\":\"white\"}},\"type\":\"table\"}],\"barpolar\":[{\"marker\":{\"line\":{\"color\":\"#E5ECF6\",\"width\":0.5},\"pattern\":{\"fillmode\":\"overlay\",\"size\":10,\"solidity\":0.2}},\"type\":\"barpolar\"}],\"pie\":[{\"automargin\":true,\"type\":\"pie\"}]},\"layout\":{\"autotypenumbers\":\"strict\",\"colorway\":[\"#636efa\",\"#EF553B\",\"#00cc96\",\"#ab63fa\",\"#FFA15A\",\"#19d3f3\",\"#FF6692\",\"#B6E880\",\"#FF97FF\",\"#FECB52\"],\"font\":{\"color\":\"#2a3f5f\"},\"hovermode\":\"closest\",\"hoverlabel\":{\"align\":\"left\"},\"paper_bgcolor\":\"white\",\"plot_bgcolor\":\"#E5ECF6\",\"polar\":{\"bgcolor\":\"#E5ECF6\",\"angularaxis\":{\"gridcolor\":\"white\",\"linecolor\":\"white\",\"ticks\":\"\"},\"radialaxis\":{\"gridcolor\":\"white\",\"linecolor\":\"white\",\"ticks\":\"\"}},\"ternary\":{\"bgcolor\":\"#E5ECF6\",\"aaxis\":{\"gridcolor\":\"white\",\"linecolor\":\"white\",\"ticks\":\"\"},\"baxis\":{\"gridcolor\":\"white\",\"linecolor\":\"white\",\"ticks\":\"\"},\"caxis\":{\"gridcolor\":\"white\",\"linecolor\":\"white\",\"ticks\":\"\"}},\"coloraxis\":{\"colorbar\":{\"outlinewidth\":0,\"ticks\":\"\"}},\"colorscale\":{\"sequential\":[[0.0,\"#0d0887\"],[0.1111111111111111,\"#46039f\"],[0.2222222222222222,\"#7201a8\"],[0.3333333333333333,\"#9c179e\"],[0.4444444444444444,\"#bd3786\"],[0.5555555555555556,\"#d8576b\"],[0.6666666666666666,\"#ed7953\"],[0.7777777777777778,\"#fb9f3a\"],[0.8888888888888888,\"#fdca26\"],[1.0,\"#f0f921\"]],\"sequentialminus\":[[0.0,\"#0d0887\"],[0.1111111111111111,\"#46039f\"],[0.2222222222222222,\"#7201a8\"],[0.3333333333333333,\"#9c179e\"],[0.4444444444444444,\"#bd3786\"],[0.5555555555555556,\"#d8576b\"],[0.6666666666666666,\"#ed7953\"],[0.7777777777777778,\"#fb9f3a\"],[0.8888888888888888,\"#fdca26\"],[1.0,\"#f0f921\"]],\"diverging\":[[0,\"#8e0152\"],[0.1,\"#c51b7d\"],[0.2,\"#de77ae\"],[0.3,\"#f1b6da\"],[0.4,\"#fde0ef\"],[0.5,\"#f7f7f7\"],[0.6,\"#e6f5d0\"],[0.7,\"#b8e186\"],[0.8,\"#7fbc41\"],[0.9,\"#4d9221\"],[1,\"#276419\"]]},\"xaxis\":{\"gridcolor\":\"white\",\"linecolor\":\"white\",\"ticks\":\"\",\"title\":{\"standoff\":15},\"zerolinecolor\":\"white\",\"automargin\":true,\"zerolinewidth\":2},\"yaxis\":{\"gridcolor\":\"white\",\"linecolor\":\"white\",\"ticks\":\"\",\"title\":{\"standoff\":15},\"zerolinecolor\":\"white\",\"automargin\":true,\"zerolinewidth\":2},\"scene\":{\"xaxis\":{\"backgroundcolor\":\"#E5ECF6\",\"gridcolor\":\"white\",\"linecolor\":\"white\",\"showbackground\":true,\"ticks\":\"\",\"zerolinecolor\":\"white\",\"gridwidth\":2},\"yaxis\":{\"backgroundcolor\":\"#E5ECF6\",\"gridcolor\":\"white\",\"linecolor\":\"white\",\"showbackground\":true,\"ticks\":\"\",\"zerolinecolor\":\"white\",\"gridwidth\":2},\"zaxis\":{\"backgroundcolor\":\"#E5ECF6\",\"gridcolor\":\"white\",\"linecolor\":\"white\",\"showbackground\":true,\"ticks\":\"\",\"zerolinecolor\":\"white\",\"gridwidth\":2}},\"shapedefaults\":{\"line\":{\"color\":\"#2a3f5f\"}},\"annotationdefaults\":{\"arrowcolor\":\"#2a3f5f\",\"arrowhead\":0,\"arrowwidth\":1},\"geo\":{\"bgcolor\":\"white\",\"landcolor\":\"#E5ECF6\",\"subunitcolor\":\"white\",\"showland\":true,\"showlakes\":true,\"lakecolor\":\"white\"},\"title\":{\"x\":0.05},\"mapbox\":{\"style\":\"light\"}}},\"xaxis\":{\"anchor\":\"y\",\"domain\":[0.0,1.0],\"title\":{\"text\":\"Support (Proportion of Transactions)\"}},\"yaxis\":{\"anchor\":\"x\",\"domain\":[0.0,1.0],\"title\":{\"text\":\"Confidence (P(Consequent | Antecedent))\"}},\"coloraxis\":{\"colorbar\":{\"title\":{\"text\":\"lift\"}},\"colorscale\":[[0.0,\"#440154\"],[0.1111111111111111,\"#482878\"],[0.2222222222222222,\"#3e4989\"],[0.3333333333333333,\"#31688e\"],[0.4444444444444444,\"#26828e\"],[0.5555555555555556,\"#1f9e89\"],[0.6666666666666666,\"#35b779\"],[0.7777777777777778,\"#6ece58\"],[0.8888888888888888,\"#b5de2b\"],[1.0,\"#fde725\"]]},\"legend\":{\"tracegroupgap\":0,\"itemsizing\":\"constant\"},\"title\":{\"text\":\"Association Rules for Male (sized and colored by Lift)\"},\"height\":500,\"width\":800},                        {\"responsive\": true}                    ).then(function(){\n",
       "                            \n",
       "var gd = document.getElementById('cd368ee7-7b91-4ae8-a6aa-4338c29cdbf8');\n",
       "var x = new MutationObserver(function (mutations, observer) {{\n",
       "        var display = window.getComputedStyle(gd).display;\n",
       "        if (!display || display === 'none') {{\n",
       "            console.log([gd, 'removed!']);\n",
       "            Plotly.purge(gd);\n",
       "            observer.disconnect();\n",
       "        }}\n",
       "}});\n",
       "\n",
       "// Listen for the removal of the full notebook cells\n",
       "var notebookContainer = gd.closest('#notebook-container');\n",
       "if (notebookContainer) {{\n",
       "    x.observe(notebookContainer, {childList: true});\n",
       "}}\n",
       "\n",
       "// Listen for the clearing of the current output cell\n",
       "var outputEl = gd.closest('.output');\n",
       "if (outputEl) {{\n",
       "    x.observe(outputEl, {childList: true});\n",
       "}}\n",
       "\n",
       "                        })                };                            </script>        </div>\n",
       "</body>\n",
       "</html>"
      ]
     },
     "metadata": {},
     "output_type": "display_data"
    }
   ],
   "source": [
    "# Iterate through each unique combined demographic segment and perform analysis.\n",
    "for segment_value in unique_segments:\n",
    "    if pd.isna(segment_value): # Skip NaN segments if any.\n",
    "        continue\n",
    "\n",
    "    print(f\"\\n--- Current Segment: '{segment_value}' ---\")\n",
    "\n",
    "    # Filter data for the current segment.\n",
    "    df_segment = df[df[current_demographic_col] == segment_value].copy()\n",
    "\n",
    "    # Skip if segment is empty or has insufficient data (less than 2 transactions).\n",
    "    if df_segment.empty or df_segment.shape[0] < 2:\n",
    "        print(f\"  Insufficient data for {segment_value}. Skipping analysis.\")\n",
    "        continue\n",
    "\n",
    "    # Preprocess items for the current segment.\n",
    "    item_list_segment = df_segment['Items'].apply(lambda x: x.split(','))\n",
    "    te_segment = TransactionEncoder()\n",
    "    df_items_segment = pd.DataFrame(te_segment.fit(item_list_segment).transform(item_list_segment),\n",
    "                                    columns=te_segment.columns_)\n",
    "\n",
    "    # Skip if no unique items after encoding.\n",
    "    if df_items_segment.shape[1] == 0:\n",
    "        print(f\"  No unique items for {segment_value} after preprocessing. Skipping.\")\n",
    "        continue\n",
    "\n",
    "    # Dynamically adjust min_support for smaller segments.\n",
    "    # For combined segments, min_support is often lower (e.g., 0.05) to find niche rules.\n",
    "    min_support_segment = 0.1 if df_items_segment.shape[0] >= 10 else 0.05\n",
    "\n",
    "    try:\n",
    "        # Find frequent itemsets for the segment.\n",
    "        frequent_itemsets_segment = apriori(df_items_segment, min_support=min_support_segment, use_colnames=True)\n",
    "\n",
    "        # Skip rule generation if no frequent itemsets are found.\n",
    "        if frequent_itemsets_segment.empty:\n",
    "            print(f\"  No frequent itemsets found for {segment_value} with min_support={min_support_segment}. Skipping rule generation.\")\n",
    "            continue\n",
    "\n",
    "        # Generate association rules for the segment.\n",
    "        rules_segment = association_rules(frequent_itemsets_segment, metric=\"lift\", min_threshold=1.0)\n",
    "        rules_segment = rules_segment.sort_values(by=['lift', 'confidence'], ascending=[False, False])\n",
    "\n",
    "        # Convert frozensets to strings for Plotly hover_data compatibility.\n",
    "        rules_segment['antecedents_str'] = rules_segment['antecedents'].apply(lambda x: ', '.join(list(x)))\n",
    "        rules_segment['consequents_str'] = rules_segment['consequents'].apply(lambda x: ', '.join(list(x)))\n",
    "\n",
    "        print(f\"\\n  Association Rules for '{segment_value}' (min_support={min_support_segment}, min_lift=1.0):\")\n",
    "        if rules_segment.empty:\n",
    "            print(\"  No significant rules found for this segment.\")\n",
    "        else:\n",
    "            print(rules_segment[['antecedents', 'consequents', 'support', 'confidence', 'lift']])\n",
    "\n",
    "        # Visualize rules for the segment using Plotly.\n",
    "        fig_segment = px.scatter(rules_segment, x=\"support\", y=\"confidence\", size=\"lift\", color=\"lift\",\n",
    "                                 hover_data=[\"antecedents_str\", \"consequents_str\", \"support\", \"confidence\", \"lift\"],\n",
    "                                 title=f'Association Rules for {segment_value} (sized and colored by Lift)',\n",
    "                                 labels={\"support\": \"Support (Proportion of Transactions)\",\n",
    "                                         \"confidence\": \"Confidence (P(Consequent | Antecedent))\",\n",
    "                                         \"lift\": \"Lift (Measure of Significance)\",\n",
    "                                         \"antecedents_str\": \"Antecedents\",\n",
    "                                         \"consequents_str\": \"Consequents\"},\n",
    "                                 color_continuous_scale=px.colors.sequential.Viridis,\n",
    "                                 width=800, height=500) # Reduced chart size\n",
    "        fig_segment.show()\n",
    "\n",
    "    except Exception as e:\n",
    "        print(f\"  An error occurred while processing segment {segment_value}: {e}\")\n",
    "        print(\"  This might be due to insufficient data or no rules meeting criteria.\")"
   ]
  },
  {
   "cell_type": "code",
   "execution_count": 35,
   "id": "278b44be-1c26-4d66-85a9-e480909d0dec",
   "metadata": {
    "colab": {
     "base_uri": "https://localhost:8080/"
    },
    "executionInfo": {
     "elapsed": 11,
     "status": "ok",
     "timestamp": 1753444997706,
     "user": {
      "displayName": "Bertrand Tan",
      "userId": "13076261897196240400"
     },
     "user_tz": -480
    },
    "id": "278b44be-1c26-4d66-85a9-e480909d0dec",
    "outputId": "cd4b43c7-632e-4eb1-b9f0-ccab22eb2d45"
   },
   "outputs": [
    {
     "name": "stdout",
     "output_type": "stream",
     "text": [
      "\n",
      "--- Demonstration Complete! ---\n"
     ]
    }
   ],
   "source": [
    "print(\"\\n--- Demonstration Complete! ---\")"
   ]
  }
 ],
 "metadata": {
  "colab": {
   "provenance": []
  },
  "kernelspec": {
   "display_name": "Python [conda env:Orange]",
   "language": "python",
   "name": "conda-env-Orange-py"
  },
  "language_info": {
   "codemirror_mode": {
    "name": "ipython",
    "version": 3
   },
   "file_extension": ".py",
   "mimetype": "text/x-python",
   "name": "python",
   "nbconvert_exporter": "python",
   "pygments_lexer": "ipython3",
   "version": "3.8.8"
  }
 },
 "nbformat": 4,
 "nbformat_minor": 5
}
